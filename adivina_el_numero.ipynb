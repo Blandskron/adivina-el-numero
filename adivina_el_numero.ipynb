{
  "nbformat": 4,
  "nbformat_minor": 0,
  "metadata": {
    "colab": {
      "provenance": [],
      "authorship_tag": "ABX9TyNfJz1+i9tSFHYeBH+BNWk+",
      "include_colab_link": true
    },
    "kernelspec": {
      "name": "python3",
      "display_name": "Python 3"
    },
    "language_info": {
      "name": "python"
    }
  },
  "cells": [
    {
      "cell_type": "markdown",
      "metadata": {
        "id": "view-in-github",
        "colab_type": "text"
      },
      "source": [
        "<a href=\"https://colab.research.google.com/github/Blandskron/adivina-el-numero/blob/main/adivina_el_numero.ipynb\" target=\"_parent\"><img src=\"https://colab.research.google.com/assets/colab-badge.svg\" alt=\"Open In Colab\"/></a>"
      ]
    },
    {
      "cell_type": "code",
      "execution_count": 1,
      "metadata": {
        "colab": {
          "base_uri": "https://localhost:8080/"
        },
        "id": "7A6LjyG_aDCj",
        "outputId": "5bb9e6ac-52d0-43b7-d69b-667ffad750da"
      },
      "outputs": [
        {
          "output_type": "stream",
          "name": "stdout",
          "text": [
            "**********************\n",
            "  Adivina el numero\n",
            "**********************\n",
            "Intento 1 de 3\n",
            "Digita un número: 3\n",
            "El número que digitaste:  3\n",
            "El número no corresponde! El número que ingresaste es menor.\n",
            "Intento 2 de 3\n",
            "Digita un número: 4\n",
            "El número que digitaste:  4\n",
            "El número no corresponde! El número que ingresaste es menor.\n",
            "Intento 3 de 3\n",
            "Digita un número: 5\n",
            "El número que digitaste:  5\n",
            "El número no corresponde! El número que ingresaste es menor.\n",
            "El juego ha concluído!\n"
          ]
        }
      ],
      "source": [
        "print(\"**********************\")\n",
        "print(\"  Adivina el numero\")\n",
        "print(\"**********************\")\n",
        "\n",
        "numero_secreto = 55\n",
        "total_intentos = 3\n",
        "intento = 1\n",
        "\n",
        "while (total_intentos >= intento):\n",
        "  #print(\"Intento {} de {}\".format(intento, total_intentos))\n",
        "  print(f\"Intento {intento} de {total_intentos}\")\n",
        "  entrada_str = input(\"Digita un número: \")\n",
        "  entrada = int(entrada_str)\n",
        "  print(\"El número que digitaste: \",entrada)\n",
        "\n",
        "\n",
        "  acerto = numero_secreto == entrada\n",
        "  mayor = entrada > numero_secreto\n",
        "  menor = entrada < numero_secreto\n",
        "  if (acerto):\n",
        "    print(\"Has acertado el número!\")\n",
        "  else:\n",
        "    if (mayor):\n",
        "      print(\"El número no corresponde! El número que ingresaste es mayor.\")\n",
        "    elif (menor):\n",
        "      print(\"El número no corresponde! El número que ingresaste es menor.\")\n",
        "  intento = intento + 1\n",
        "\n",
        "print(\"El juego ha concluído!\")"
      ]
    }
  ]
}